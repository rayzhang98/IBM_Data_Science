{
  "metadata": {
    "language_info": {
      "codemirror_mode": {
        "name": "python",
        "version": 3
      },
      "file_extension": ".py",
      "mimetype": "text/x-python",
      "name": "python",
      "nbconvert_exporter": "python",
      "pygments_lexer": "ipython3",
      "version": "3.8"
    },
    "kernelspec": {
      "name": "python",
      "display_name": "Python (Pyodide)",
      "language": "python"
    }
  },
  "nbformat_minor": 4,
  "nbformat": 4,
  "cells": [
    {
      "cell_type": "markdown",
      "source": "# Data Science Tools and Ecosystem\n\nIn this notebook, Data Science Tools and Ecosystem are summarized.\n\nSome of the popular languages that Data Scientests use are as follows\n\n1. R: A language that focuses on data and statistical analysis\n2. SQL: A language that is useful for manipulating and communicating with databases\n3. Python: A versatile language that I'm currently using right now\n\nSome of the popular libraries that Data Scientests use are as follows\n\n1. matplotlib: An open source plotting library for Python to create a multitude of data visualizations.\n2. Pandas: A library that provides fast and flexible data structures.\n3. TensorFlow: A library that facilitates high-performance numerical calculations.\n\nCommon tools used by Data Scientests include\n\n|Data Science Tools|\n|:------:|\n|MatLab|\n|ApacheSpark|\n|Yours Truly, JupyterNotebook|\n\n\n### Below are a few examples involving arithmetic expressions in Python\n\n|Function|Syntax|\n|:------:|:-----:|\n|Multiplication|a * b|\n|Modulo|a % b|\n|Exponentation| a ** b|\n\n\n",
      "metadata": {}
    },
    {
      "cell_type": "code",
      "source": "#This a simple arithmetic expression to mutiply then add integers\n(3*4)+5",
      "metadata": {
        "trusted": true
      },
      "execution_count": null,
      "outputs": []
    },
    {
      "cell_type": "code",
      "source": "#This will convert 200 minutes into hours by dividing by 60\nprint (round((200/60),2), \"Hours\")",
      "metadata": {
        "trusted": true
      },
      "execution_count": 13,
      "outputs": [
        {
          "name": "stdout",
          "text": "3.33 Hours\n",
          "output_type": "stream"
        }
      ]
    },
    {
      "cell_type": "markdown",
      "source": "**Objectives:**\n- Educate readers on the tools that data scientests use\n- Educate readers on common languages used in data science\n- Show examples of calculations that can be done in Python\n- Show examples of different text formats.\n",
      "metadata": {}
    },
    {
      "cell_type": "markdown",
      "source": "## Author\nRay Z.",
      "metadata": {}
    },
    {
      "cell_type": "code",
      "source": "",
      "metadata": {},
      "execution_count": null,
      "outputs": []
    }
  ]
}